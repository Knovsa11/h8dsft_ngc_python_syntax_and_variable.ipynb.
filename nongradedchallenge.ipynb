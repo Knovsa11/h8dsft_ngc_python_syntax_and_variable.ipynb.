{
 "cells": [
  {
   "cell_type": "code",
   "execution_count": 1,
   "metadata": {},
   "outputs": [
    {
     "name": "stdout",
     "output_type": "stream",
     "text": [
      "========== Task1 ==========\n",
      "{'B818', 'A461', 'A083', 'A082', 'B439', 'B341', 'A005', 'A092', 'B904', 'B821', 'B219', 'A901'}\n",
      "12\n",
      "There are  12 unique customer ids in the customer list\n"
     ]
    }
   ],
   "source": [
    "# Task 1\n",
    "print('='*10,\"Task1\",\"=\"*10)\n",
    "\n",
    "customer_id = ['B818', 'A461', 'A092', 'A082', 'B341', 'A005', 'A092', 'A461',\n",
    "               'B219', 'B904', 'A901', 'A083', 'B904', 'A092', 'B341', 'B821',\n",
    "               'B341', 'B821', 'B904', 'B818', 'A901', 'A083', 'B818', 'A082',\n",
    "               'B219', 'B219', 'A083', 'A901', 'A082', 'B341', 'B341', 'A083',\n",
    "               'A082', 'B219', 'B439', 'A461', 'A005', 'A901', 'B341', 'A082',\n",
    "               'A083', 'A461', 'A083', 'A901', 'A461', 'A083', 'A082', 'A083',\n",
    "               'B341', 'A901', 'A082', 'A461', 'B219', 'A083', 'B818', 'B821',\n",
    "               'A092', 'B341', 'A461', 'A092', 'A083', 'B821', 'A092']\n",
    "\n",
    "\n",
    "data_set_for_unique_customer_id = set(customer_id) #untuk mengelompokkan id customer di dalam data customer_id\n",
    "print(data_set_for_unique_customer_id)\n",
    "\n",
    "count_of_unique_customer_ids = len(data_set_for_unique_customer_id) #menghitung jumlah data unique customer id berdasarkan pengemlompokan\n",
    "print(count_of_unique_customer_ids)\n",
    "\n",
    "print(\"There are \", count_of_unique_customer_ids, \"unique customer ids in the customer list\")"
   ]
  },
  {
   "cell_type": "code",
   "execution_count": 4,
   "metadata": {},
   "outputs": [
    {
     "name": "stdout",
     "output_type": "stream",
     "text": [
      "========== Task2 ==========\n",
      "A =  16\n",
      "B =  [49, 64, 81, 100]\n",
      "C =  [100, 81, 64, 49, 36, 25, 16, 9, 4, 1]\n"
     ]
    }
   ],
   "source": [
    "# Task 2\n",
    "print('='*10,\"Task2\",\"=\"*10)\n",
    "\n",
    "Data = [1, 4, 9, 16, 25, 36, 49, 64, 81, 100]\n",
    "\n",
    "print(\"A = \", Data[3])\n",
    "print(\"B = \",Data[6:10])\n",
    "print(\"C = \",Data[-1:-11:-1])"
   ]
  },
  {
   "cell_type": "code",
   "execution_count": 3,
   "metadata": {},
   "outputs": [
    {
     "name": "stdout",
     "output_type": "stream",
     "text": [
      "========== Task3 ==========\n",
      "['Nanggroe Aceh Darussalam', 'Sumatera Selatan', 'Kalimantan Barat', 'Jawa Timur', 'Sulawesi Selatan', 'Maluku']\n",
      "Surabaya\n"
     ]
    }
   ],
   "source": [
    "# Task 3\n",
    "print('='*10,\"Task3\",\"=\"*10)\n",
    "\n",
    "provinsi = {'Nanggroe Aceh Darussalam': 'Aceh',\n",
    "            'Sumatera Selatan': 'Palembang',\n",
    "            'Kalimantan Barat': 'Pontianak',\n",
    "            'Jawa Timur': 'Madiun',\n",
    "            'Sulawesi Selatan': 'Makassar',\n",
    "            'Maluku': 'Ambon'}\n",
    "\n",
    "list_provinsi = list(provinsi) #melakukan pengemlompokan berdasarkan nilai kunci\n",
    "print(\"A = \", list_provinsi)\n",
    "\n",
    "provinsi.update({'Jawa Timur' : 'Surabaya'}) # menggunakan update untuk melakukan perubahan pada pyhton list yang tersedia (mengganti ataupun menambahkan)\n",
    "print(\"B = \", provinsi['Jawa Timur'])"
   ]
  }
 ],
 "metadata": {
  "kernelspec": {
   "display_name": "base",
   "language": "python",
   "name": "python3"
  },
  "language_info": {
   "codemirror_mode": {
    "name": "ipython",
    "version": 3
   },
   "file_extension": ".py",
   "mimetype": "text/x-python",
   "name": "python",
   "nbconvert_exporter": "python",
   "pygments_lexer": "ipython3",
   "version": "3.9.18"
  }
 },
 "nbformat": 4,
 "nbformat_minor": 2
}
